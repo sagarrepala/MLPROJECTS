{
  "cells": [
    {
      "cell_type": "markdown",
      "metadata": {
        "id": "view-in-github",
        "colab_type": "text"
      },
      "source": [
        "<a href=\"https://colab.research.google.com/github/sagarrepala/Movierecommendationsystemt/blob/main/ML_Sagar.ipynb\" target=\"_parent\"><img src=\"https://colab.research.google.com/assets/colab-badge.svg\" alt=\"Open In Colab\"/></a>"
      ]
    },
    {
      "cell_type": "code",
      "source": [
        "#bayes algorithm 1 exp\n",
        "probAbsentFriday = 0.03\n",
        "probFriday = 0.2\n",
        "\n",
        "# bayes Formula\n",
        "\n",
        "# p(Absent|Friday) = p(Friday|Absent)p(Absent)/p(Friday)\n",
        "\n",
        "# p(Friday|Absent) = p(Friday∩Absent)/p(Absent)\n",
        "\n",
        "# Calculate p(Absent|Friday)\n",
        "bayesResult = (probAbsentFriday / probFriday)\n",
        "\n",
        "print(bayesResult * 100)"
      ],
      "metadata": {
        "colab": {
          "base_uri": "https://localhost:8080/"
        },
        "id": "qBTFiQWv1VD0",
        "outputId": "a27f93fd-b3eb-4b8f-f59f-273343e16519"
      },
      "execution_count": null,
      "outputs": [
        {
          "output_type": "stream",
          "name": "stdout",
          "text": [
            "15.0\n"
          ]
        }
      ]
    },
    {
      "cell_type": "code",
      "source": [
        "import pymysql\n",
        "\n",
        "def mysql_connect():\n",
        "    # To connect MySQL\n",
        "    conn = pymysql.connect(\n",
        "        host='localhost',\n",
        "        user='root',\n",
        "        password='pass',\n",
        "        db='College'\n",
        "    )\n",
        "    cur = conn.cursor()\n",
        "    cur.execute(\"select @@version\")\n",
        "    output = cur.fetchall()\n",
        "    print(output)\n",
        "    # To close the connection\n",
        "    conn.close()\n"
      ],
      "metadata": {
        "colab": {
          "base_uri": "https://localhost:8080/"
        },
        "id": "HW7r6Cio1hDw",
        "outputId": "a97e91a8-87ec-42a3-aa78-23677df528b2"
      },
      "execution_count": null,
      "outputs": [
        {
          "output_type": "stream",
          "name": "stdout",
          "text": [
            "Looking in indexes: https://pypi.org/simple, https://us-python.pkg.dev/colab-wheels/public/simple/\n",
            "Requirement already satisfied: pymysql in /usr/local/lib/python3.10/dist-packages (1.0.3)\n"
          ]
        }
      ]
    },
    {
      "cell_type": "code",
      "source": [
        "#exp3 knn classifier\n",
        "Import necessary modules\n",
        "from sklearn.neighbors import KNeighborsClassifier\n",
        "from sklearn.model_selection import train_test_split\n",
        "from sklearn.datasets import load_iris\n",
        "\n",
        "# Loading data\n",
        "irisData = load_iris()\n",
        "\n",
        "# Create feature and target arrays\n",
        "X = irisData.data\n",
        "y = irisData.target\n",
        "\n",
        "# Split into training and test set\n",
        "X_train, X_test, y_train, y_test = train_test_split(X, y, test_size=0.2, random_state=42)\n",
        "\n",
        "knn = KNeighborsClassifier(n_neighbors=7)\n",
        "knn.fit(X_train, y_train)\n",
        "\n",
        "# Predict on dataset which model has not seen before\n",
        "print(knn.predict(X_test))"
      ],
      "metadata": {
        "id": "9QLDC3nS15bT"
      },
      "execution_count": null,
      "outputs": []
    },
    {
      "cell_type": "code",
      "source": [
        "#4th exp\n",
        "from sklearn.cluster import KMeans\n",
        "import numpy as np\n",
        "\n",
        "X = np.array([[1.713,1.586], [0.180,1.786], [0.353,1.240],\n",
        "              [0.940,1.566], [1.486,0.759], [1.266,1.106],\n",
        "              [1.540,0.419], [0.459,1.799], [0.773,0.186]])\n",
        "\n",
        "y = np.array([0,1,1,0,1,0,1,1,1])\n",
        "\n",
        "kmeans = KMeans(n_clusters=3, n_init=10, random_state=0).fit(X)\n",
        "print(kmeans)"
      ],
      "metadata": {
        "colab": {
          "base_uri": "https://localhost:8080/"
        },
        "id": "zR9qGRqq2f4s",
        "outputId": "24540c33-d788-4c68-ba58-63ff3d9b7d7d"
      },
      "execution_count": null,
      "outputs": [
        {
          "output_type": "stream",
          "name": "stdout",
          "text": [
            "KMeans(n_clusters=3, n_init=10, random_state=0)\n"
          ]
        }
      ]
    },
    {
      "cell_type": "code",
      "source": [
        "#exp 5 The Following Training Examples Map Descriptions Of Individuals Onto High, Medium And LowCredit-Worthiness.\n",
        "totalRecords = 10\n",
        "numberGolfRecreation = 4\n",
        "probGolf = numberGolfRecreation/totalRecords\n",
        "print(\"Unconditional probability of golf: = {}\".format(probGolf))\n",
        "\n",
        "# Conditional probability of `single' given `medRisk'\n",
        "# Bayes Formula\n",
        "# p(single|medRisk)=p(medRisk|single)p(single)/p(medRisk)\n",
        "# p(medRisk|single)=p(medRisk ∩ single)/p(single)\n",
        "\n",
        "# Therefore the result is:\n",
        "\n",
        "numberMedRiskSingle = 2\n",
        "numberMedRisk = 3\n",
        "\n",
        "probMedRiskSingle = numberMedRiskSingle/totalRecords\n",
        "probMedRisk = numberMedRisk/totalRecords\n",
        "\n",
        "conditionalProbability = (probMedRiskSingle/probMedRisk)\n",
        "\n",
        "print(\"Conditional probability of single given medRisk: = {}\".format(conditionalProbability))\n"
      ],
      "metadata": {
        "id": "4zt2_wcf24-C"
      },
      "execution_count": null,
      "outputs": []
    },
    {
      "cell_type": "code",
      "execution_count": null,
      "metadata": {
        "colab": {
          "background_save": true,
          "base_uri": "https://localhost:8080/",
          "height": 927
        },
        "id": "q8HR2aKrAzr_",
        "outputId": "e2c36b44-9d40-42b3-9fa2-b00dfb713e4b"
      },
      "outputs": [
        {
          "data": {
            "image/png": "[encoded data removed]",
            "text/plain": [
              "<Figure size 640x480 with 1 Axes>"
            ]
          },
          "metadata": {},
          "output_type": "display_data"
        },
        {
          "data": {
            "image/png": "[encoded data removed]",
            "text/plain": [
              "<Figure size 640x480 with 1 Axes>"
            ]
          },
          "metadata": {},
          "output_type": "display_data"
        }
      ],
      "source": [
        "#exp 6 linear regression\n",
        "#import libraries\n",
        "import numpy as np\n",
        "import pandas as pd\n",
        "import matplotlib.pyplot as mtp\n",
        "from sklearn.linear_model import LinearRegression\n",
        "from sklearn.model_selection import train_test_split\n",
        "\n",
        "#load data\n",
        "data_set = pd.DataFrame({\n",
        "    'experience':[0.5,1.0,1.5,2.0,2.5,3.0,3.5,4.0,4.5,5.0,5.5,6.0,6.5,7.0,7.5,8.0,8.5,9.0,9.5,10.0],\n",
        "    'salary':[25000,40000,50000,57000,60060,66700,70000,75000,80000,95000,100000,105000,110000,115000,120000,125000,130000,135000,140000,145000]\n",
        "})\n",
        "#slpit data\n",
        "x = data_set.iloc[:, :-1].values\n",
        "y = data_set.iloc[:, -1].values\n",
        "\n",
        "x_train,x_test,y_train,y_test =train_test_split(x,y,test_size=0.2,random_state=0)\n",
        "\n",
        "#train data\n",
        "regressor = LinearRegression()\n",
        "regressor.fit(x_train,y_train)\n",
        "\n",
        "#predictions\n",
        "y_pred = regressor.predict(x_test)\n",
        "\n",
        "#visulising training set\n",
        "mtp.scatter(x_train,y_train, color ='red')\n",
        "mtp.plot(x_train, regressor.predict(x_train), color ='blue')\n",
        "mtp.title('salary vs experience(traning set)')\n",
        "mtp.xlabel('years of experince')\n",
        "mtp.ylabel('salary')\n",
        "mtp.show()\n",
        "\n",
        "#visualising test set\n",
        "mtp.scatter(x_test,y_test, color ='red')\n",
        "mtp.plot(x_test, regressor.predict(x_test),color = 'blue')\n",
        "mtp.title('salary vs experience(test model)')\n",
        "mtp.xlabel('years of expereince')\n",
        "mtp.ylabel('salary')\n",
        "mtp.show()"
      ]
    },
    {
      "cell_type": "code",
      "execution_count": null,
      "metadata": {
        "colab": {
          "base_uri": "https://localhost:8080/"
        },
        "id": "m9ryJPJeBAwV",
        "outputId": "de15090f-ed16-4a4f-a6c7-bc2fe158ac2b"
      },
      "outputs": [
        {
          "name": "stdout",
          "output_type": "stream",
          "text": [
            "Accuracy metrics\n",
            "Accuracy: 0.6\n",
            "recall: 1.0\n",
            "precision: 0.5\n",
            "confusion matrix: [[1 2]\n",
            " [0 2]]\n"
          ]
        }
      ],
      "source": [
        "#exp7 Naive bayes\n",
        "import numpy as np\n",
        "import pandas as pd\n",
        "from sklearn.model_selection import train_test_split\n",
        "from sklearn.feature_extraction.text import CountVectorizer\n",
        "from sklearn.naive_bayes import MultinomialNB\n",
        "from sklearn.metrics import accuracy_score, confusion_matrix, precision_score, recall_score\n",
        "\n",
        "data = {'message': ['I love this sandwich', 'This is an amazing place', 'I feel very good about these beers', 'This is my best work', 'What an awesome view', 'I do not like this restaurant', 'I am tired of this stuff', 'I can\\'t deal with this', 'He is my sworn enemy', 'My boss is horrible', 'This is an awesome place', 'I do not like the taste of this juice', 'I love to dance', 'I am sick and tired of this place', 'What a great holiday', 'That is a bad locality to stay', 'We will have good fun tomorrow', 'I went to my enemy\\'s house today'],\n",
        "        'label': ['pos', 'pos', 'pos', 'pos', 'pos', 'neg', 'neg', 'neg', 'neg', 'neg', 'pos', 'neg', 'pos', 'neg', 'pos', 'neg', 'pos', 'neg']}\n",
        "\n",
        "df = pd.DataFrame(data)\n",
        "\n",
        "df['labelnum'] = df.label.map({'pos':1,'neg': 0})\n",
        "X =df.message\n",
        "y =df.labelnum\n",
        "\n",
        "Xtrain,Xtest,ytrain,ytest = train_test_split(X,y)\n",
        "\n",
        "count_v = CountVectorizer()\n",
        "Xtrain_dm = count_v.fit_transform(Xtrain)\n",
        "Xtest_dm = count_v.transform(Xtest)\n",
        "\n",
        "clf = MultinomialNB()\n",
        "clf.fit(Xtrain_dm,ytrain)\n",
        "\n",
        "pred = clf.predict(Xtest_dm)\n",
        "\n",
        "print('Accuracy metrics')\n",
        "print('Accuracy:', accuracy_score(ytest,pred))\n",
        "print('recall:', recall_score(ytest,pred))\n",
        "print('precision:', precision_score(ytest,pred))\n",
        "print('confusion matrix:', confusion_matrix(ytest,pred))\n"
      ]
    },
    {
      "cell_type": "code",
      "execution_count": null,
      "metadata": {
        "colab": {
          "base_uri": "https://localhost:8080/"
        },
        "id": "uPJaBoEKBIt0",
        "outputId": "60230fc1-aa12-4664-c76e-15e37cf7a443"
      },
      "outputs": [
        {
          "name": "stdout",
          "output_type": "stream",
          "text": [
            "Best solution found: [-9.9198449  -5.33942297 -5.75112435 -3.64563198 -7.83864988]\n",
            "with fitness score of 234.72325613620453\n"
          ]
        }
      ],
      "source": [
        "#exp8 genetic algorithm\n",
        "import numpy as np\n",
        "import random\n",
        "\n",
        "# Define the problem\n",
        "def objective_function(x):\n",
        "    return sum(x**2)\n",
        "\n",
        "# Encoding the solution\n",
        "def create_individual():\n",
        "    return np.array([random.uniform(-5, 5) for _ in range(5)])\n",
        "\n",
        "# Initial population\n",
        "population_size = 50\n",
        "population = [create_individual() for _ in range(population_size)]\n",
        "\n",
        "# Fitness function\n",
        "def evaluate_population(population):\n",
        "    return [objective_function(individual) for individual in population]\n",
        "\n",
        "# Selection\n",
        "def select_parents(population, fitness_scores):\n",
        "    return random.choices(population, weights=fitness_scores, k=2)\n",
        "\n",
        "# Crossover\n",
        "def crossover(parents):\n",
        "    offspring = []\n",
        "    for i in range(len(parents[0])):\n",
        "        if random.random() < 0.5:\n",
        "            offspring.append(parents[0][i])\n",
        "        else:\n",
        "            offspring.append(parents[1][i])\n",
        "    return np.array(offspring)\n",
        "\n",
        "# Mutation\n",
        "def mutate(individual, mutation_rate):\n",
        "    for i in range(len(individual)):\n",
        "        if random.random() < mutation_rate:\n",
        "            individual[i] += random.uniform(-1, 1)\n",
        "    return individual\n",
        "\n",
        "# Replacement\n",
        "def replace_population(population, offspring):\n",
        "    return offspring\n",
        "\n",
        "# Genetic Algorithm\n",
        "mutation_rate = 0.1\n",
        "num_generations = 100\n",
        "\n",
        "for i in range(num_generations):\n",
        "    fitness_scores = evaluate_population(population)\n",
        "    parents = [select_parents(population, fitness_scores) for _ in range(population_size // 2)]\n",
        "    offspring = [crossover(parents) for parents in parents]\n",
        "    offspring = [mutate(individual, mutation_rate) for individual in offspring]\n",
        "    population = replace_population(population, offspring)\n",
        "\n",
        "best_individual = min(population, key=objective_function)\n",
        "print(\"Best solution found:\", best_individual,)\n",
        "print(\"with fitness score of\", objective_function(best_individual))"
      ]
    },
    {
      "cell_type": "code",
      "execution_count": null,
      "metadata": {
        "colab": {
          "base_uri": "https://localhost:8080/"
        },
        "id": "coODWoWcBVXA",
        "outputId": "1a5ac9eb-7c38-4df8-868c-ee51ba2beddc"
      },
      "outputs": [
        {
          "name": "stdout",
          "output_type": "stream",
          "text": [
            "Total Instances of Dataset:  3798\n",
            "              precision    recall  f1-score   support\n",
            "\n",
            "          -2       0.53      0.37      0.44       129\n",
            "          -1       0.42      0.54      0.47       253\n",
            "           0       0.00      0.00      0.00       160\n",
            "           1       0.34      0.72      0.46       252\n",
            "           2       1.00      0.01      0.01       156\n",
            "\n",
            "    accuracy                           0.39       950\n",
            "   macro avg       0.46      0.33      0.28       950\n",
            "weighted avg       0.44      0.39      0.31       950\n",
            "\n"
          ]
        },
        {
          "name": "stderr",
          "output_type": "stream",
          "text": [
            "/usr/local/lib/python3.9/dist-packages/sklearn/neural_network/_multilayer_perceptron.py:541: ConvergenceWarning: lbfgs failed to converge (status=1):\n",
            "STOP: TOTAL NO. of ITERATIONS REACHED LIMIT.\n",
            "\n",
            "Increase the number of iterations (max_iter) or scale the data as shown in:\n",
            "    https://scikit-learn.org/stable/modules/preprocessing.html\n",
            "  self.n_iter_ = _check_optimize_result(\"lbfgs\", opt_res, self.max_iter)\n",
            "/usr/local/lib/python3.9/dist-packages/sklearn/metrics/_classification.py:1344: UndefinedMetricWarning: Precision and F-score are ill-defined and being set to 0.0 in labels with no predicted samples. Use `zero_division` parameter to control this behavior.\n",
            "  _warn_prf(average, modifier, msg_start, len(result))\n",
            "/usr/local/lib/python3.9/dist-packages/sklearn/metrics/_classification.py:1344: UndefinedMetricWarning: Precision and F-score are ill-defined and being set to 0.0 in labels with no predicted samples. Use `zero_division` parameter to control this behavior.\n",
            "  _warn_prf(average, modifier, msg_start, len(result))\n",
            "/usr/local/lib/python3.9/dist-packages/sklearn/metrics/_classification.py:1344: UndefinedMetricWarning: Precision and F-score are ill-defined and being set to 0.0 in labels with no predicted samples. Use `zero_division` parameter to control this behavior.\n",
            "  _warn_prf(average, modifier, msg_start, len(result))\n"
          ]
        }
      ],
      "source": [
        "#EXP - 9 back propogation\n",
        "import pandas as pd\n",
        "from sklearn.model_selection import train_test_split\n",
        "from sklearn.feature_extraction.text import CountVectorizer\n",
        "from sklearn.neural_network import MLPClassifier\n",
        "from sklearn.metrics import accuracy_score, confusion_matrix, precision_score, recall_score,classification_report\n",
        "\n",
        "msg = pd.read_csv('/content/Corona_NLP_test.csv')\n",
        "print(\"Total Instances of Dataset: \", msg.shape[0])\n",
        "msg['labelnum'] = msg.Sentiment.map({'Positive': 1, 'Extremely Positive': 2,'Extremely Negative':-2,'Negative' : -1,'Neutral' : 0})\n",
        "\n",
        "X = msg.OriginalTweet\n",
        "y = msg.labelnum\n",
        "Xtrain, Xtest, ytrain, ytest = train_test_split(X, y)\n",
        "\n",
        "count_v = CountVectorizer()\n",
        "Xtrain_dm = count_v.fit_transform(Xtrain)\n",
        "Xtest_dm = count_v.transform(Xtest)\n",
        "\n",
        "clf = MLPClassifier(solver='lbfgs', alpha=1e-5, hidden_layer_sizes=(5, 2), random_state=1)\n",
        "clf.fit(Xtrain_dm, ytrain)\n",
        "pred = clf.predict(Xtest_dm)\n",
        "\n",
        "print(classification_report(ytest,pred))\n",
        "\n",
        "\n",
        "\n",
        "#https://drive.google.com/drive/folders/1UZLeSNQnXWhE1hhLtMtO9KTwLJGmmUyC?usp=share_link\n"
      ]
    },
    {
      "cell_type": "code",
      "execution_count": null,
      "metadata": {
        "colab": {
          "base_uri": "https://localhost:8080/"
        },
        "id": "NXZUq1nMCNSX",
        "outputId": "cea09b44-32d8-4748-8d15-23095db90608"
      },
      "outputs": [
        {
          "name": "stdout",
          "output_type": "stream",
          "text": [
            "Input:  [0 1] [1 0] [1 1]\n",
            "Actual output :\n",
            " [[0]\n",
            " [1]\n",
            " [1]\n",
            " [0]]\n",
            "predicted output\n",
            "Output:  [0.1235426]\n",
            "Output:  [0.89731421]\n",
            "Output:  [0.90514153]\n",
            "Output:  [0.08312898]\n"
          ]
        }
      ],
      "source": [
        "#exp 10 ANN using back propogation\n",
        "\n",
        "import numpy as np\n",
        "\n",
        "# Define sigmoid function\n",
        "def sigmoid(x):\n",
        "    return 1 / (1 + np.exp(-x))\n",
        "\n",
        "# Define derivative of sigmoid function\n",
        "def sigmoid_derivative(x):\n",
        "    return x * (1 - x)\n",
        "\n",
        "# Define ANN class\n",
        "class ANN:\n",
        "    def __init__(self, inputs, hidden_nodes, outputs):\n",
        "        self.inputs = inputs\n",
        "        self.hidden_nodes = hidden_nodes\n",
        "        self.outputs = outputs\n",
        "        self.weights1 = np.random.rand(self.inputs, self.hidden_nodes)\n",
        "        self.weights2 = np.random.rand(self.hidden_nodes, self.outputs)\n",
        "\n",
        "    def feedforward(self, X):\n",
        "        self.hidden_layer = sigmoid(np.dot(X, self.weights1))\n",
        "        self.output_layer = sigmoid(np.dot(self.hidden_layer, self.weights2))\n",
        "        return self.output_layer\n",
        "\n",
        "    def backpropagation(self, X, y, learning_rate):\n",
        "        output_error = y - self.output_layer\n",
        "        output_delta = output_error * sigmoid_derivative(self.output_layer)\n",
        "\n",
        "        hidden_error = output_delta.dot(self.weights2.T)\n",
        "        hidden_delta = hidden_error * sigmoid_derivative(self.hidden_layer)\n",
        "\n",
        "        self.weights1 += X.T.dot(hidden_delta) * learning_rate\n",
        "        self.weights2 += self.hidden_layer.T.dot(output_delta) * learning_rate\n",
        "\n",
        "    def train(self, X, y, learning_rate, epochs):\n",
        "        for i in range(epochs):\n",
        "            self.feedforward(X)\n",
        "            self.backpropagation(X, y, learning_rate)\n",
        "\n",
        "    def predict(self, X):\n",
        "        return self.feedforward(X)\n",
        "\n",
        "# Test the ANN\n",
        "X = np.array([[0, 0], [0, 1], [1, 0], [1, 1]])\n",
        "y = np.array([[0], [1], [1], [0]])\n",
        "\n",
        "ann = ANN(2, 4, 1)\n",
        "ann.train(X, y, 0.1, 10000)\n",
        "print(\"Input: \",X[1],X[2],X[3])\n",
        "#print(\"Input:\\n\",str(X.reshape(1,-1)))\n",
        "print(\"Actual output :\\n\",str(y))\n",
        "print(\"predicted output\")\n",
        "print(\"Output: \", ann.predict(X[0]))\n",
        "print(\"Output: \", ann.predict(X[1]))\n",
        "print(\"Output: \", ann.predict(X[2]))\n",
        "print(\"Output: \", ann.predict(X[3]))\n"
      ]
    },
    {
      "cell_type": "markdown",
      "metadata": {
        "id": "GQOODnDWIPsz"
      },
      "source": [
        "BACK PROPOGATION\n",
        "This program defines a neural network class with methods for feedforward, backpropagation, training, and prediction. The network has 2 input nodes, 4 hidden nodes, and 1 output node. The network is trained using backpropagation for 10000 epochs on the XOR problem. Finally, the program predicts the output for each input in the test set."
      ]
    },
    {
      "cell_type": "code",
      "execution_count": null,
      "metadata": {
        "colab": {
          "base_uri": "https://localhost:8080/"
        },
        "id": "40TY9JooIW24",
        "outputId": "278acdaf-45ff-4750-bfe0-f893e7c5fe77"
      },
      "outputs": [
        {
          "name": "stdout",
          "output_type": "stream",
          "text": [
            "Input:  [0 0]\n",
            "Output:  [0.02006561]\n",
            "Input:  [0 1]\n",
            "Output:  [0.98654278]\n",
            "Input:  [1 0]\n",
            "Output:  [0.98794608]\n",
            "Input:  [1 1]\n",
            "Output:  [0.00512068]\n"
          ]
        }
      ],
      "source": [
        "#EXP - 9 back propogation 2\n",
        "import numpy as np\n",
        "\n",
        "# Define sigmoid function and its derivative\n",
        "def sigmoid(x):\n",
        "    return 1 / (1 + np.exp(-x))\n",
        "\n",
        "def sigmoid_derivative(x):\n",
        "    return x * (1 - x)\n",
        "\n",
        "# Define the neural network class\n",
        "class NeuralNetwork:\n",
        "    def __init__(self, X, y):\n",
        "        self.input = X\n",
        "        self.weights1 = np.random.rand(self.input.shape[1], 4)\n",
        "        self.weights2 = np.random.rand(4, 1)\n",
        "        self.y = y\n",
        "        self.output = np.zeros(self.y.shape)\n",
        "\n",
        "    def feedforward(self):\n",
        "        self.layer1 = sigmoid(np.dot(self.input, self.weights1))\n",
        "        self.output = sigmoid(np.dot(self.layer1, self.weights2))\n",
        "\n",
        "    def backpropagation(self):\n",
        "        d_weights2 = np.dot(self.layer1.T, (2*(self.y - self.output) * sigmoid_derivative(self.output)))\n",
        "        d_weights1 = np.dot(self.input.T, (np.dot(2*(self.y - self.output) * sigmoid_derivative(self.output), self.weights2.T) * sigmoid_derivative(self.layer1)))\n",
        "\n",
        "        self.weights1 += d_weights1\n",
        "        self.weights2 += d_weights2\n",
        "\n",
        "    def train(self, epochs):\n",
        "        for i in range(epochs):\n",
        "            self.feedforward()\n",
        "            self.backpropagation()\n",
        "\n",
        "    def predict(self, X):\n",
        "        self.input = X\n",
        "        self.feedforward()\n",
        "        return self.output\n",
        "\n",
        "# Test the neural network on a sample dataset\n",
        "X = np.array([[0, 0], [0, 1], [1, 0], [1, 1]])\n",
        "y = np.array([[0], [1], [1], [0]])\n",
        "\n",
        "nn = NeuralNetwork(X, y)\n",
        "nn.train(10000)\n",
        "\n",
        "print(\"Input: \", X[0])\n",
        "print(\"Output: \", nn.predict(X[0]))\n",
        "print(\"Input: \", X[1])\n",
        "print(\"Output: \", nn.predict(X[1]))\n",
        "print(\"Input: \", X[2])\n",
        "print(\"Output: \", nn.predict(X[2]))\n",
        "print(\"Input: \", X[3])\n",
        "print(\"Output: \", nn.predict(X[3]))\n"
      ]
    },
    {
      "cell_type": "code",
      "source": [
        "import pandas as pd\n",
        "\n",
        "fromsklearn.model_selection import train_test_split\n",
        "\n",
        "fromsklearn.feature_extraction.text import CountVectorizer\n",
        "\n",
        "from sklearn.naive_bayes import MultinomialNB\n",
        "\n",
        "fromsklearn.metrics import accuracy_score, confusion_matrix, precision_score, recall_score\n",
        "\n",
        "\n",
        "msg = pd.read_csv('document.csv', names=['message', 'label'])\n",
        "\n",
        "print(\"Total Instances of Dataset: \", msg.shape[0])\n",
        "\n",
        "msg['labelnum'] = msg.label.map({'pos': 1, 'neg': 0})\n",
        "\n",
        "X = msg.message\n",
        "\n",
        "y = msg.labelnum\n",
        "\n",
        "Xtrain, Xtest, ytrain, ytest = train_test_split(X, y)\n",
        "\n",
        "count_v = CountVectorizer()\n",
        "\n",
        "Xtrain_dm = count_v.fit_transform(Xtrain)\n",
        "\n",
        "Xtest_dm = count_v.transform(Xtest)\n",
        "df = pd.DataFrame(Xtrain_dm.toarray(),columns=count_v.get_feature_names())\n",
        "\n",
        "clf = MultinomialNB()\n",
        "\n",
        "clf.fit(Xtrain_dm, ytrain)\n",
        "\n",
        "pred = clf.predict(Xtest_dm)\n",
        "\n",
        "print('Accuracy Metrics:')\n",
        "\n",
        "print('Accuracy: ', accuracy_score(ytest, pred)) print('Recall: ', recall_score(ytest, pred)) print('Precision: ',\n",
        "\n",
        "precision_score(ytest, pred))\n",
        "\n",
        "print('Confusion Matrix: \\n', confusion_matrix(ytest, pred))\n",
        "\n",
        "document.csv:\n",
        "\n",
        "\n",
        "I love this sandwich,pos This is an amazingplace,pos\n",
        "I feel very good about these beers,pos This is my best work,pos\n",
        "What an awesome view,pos\n",
        "\n",
        "I do not like this restaurant,neg I am tired of this stuff,neg\n",
        "I cant deal with this,neg He is my sworn enemy,neg My boss is horrible,neg\n",
        "\n",
        "This is an awesome place,pos\n",
        "\n",
        "I do not like the taste of this juice,neg I love to dance,pos\n",
        "I am sick and tired of this place,neg What a great holiday,pos\n",
        "That is a bad locality to stay,neg\n",
        "We will have good fun tomorrow,pos I went to my enemy's house today,neg\n"
      ],
      "metadata": {
        "colab": {
          "base_uri": "https://localhost:8080/",
          "height": 130
        },
        "id": "YBvv_ENye2bh",
        "outputId": "584111ce-a49c-4489-fbba-53dc5d083c5a"
      },
      "execution_count": null,
      "outputs": [
        {
          "output_type": "error",
          "ename": "SyntaxError",
          "evalue": "ignored",
          "traceback": [
            "\u001b[0;36m  File \u001b[0;32m\"<ipython-input-2-27d9bdf6cf5b>\"\u001b[0;36m, line \u001b[0;32m60\u001b[0m\n\u001b[0;31m    We will have good fun tomorrow,pos I went to my enemy's house today,neg\u001b[0m\n\u001b[0m                                                         ^\u001b[0m\n\u001b[0;31mSyntaxError\u001b[0m\u001b[0;31m:\u001b[0m unterminated string literal (detected at line 60)\n"
          ]
        }
      ]
    }
  ],
  "metadata": {
    "colab": {
      "provenance": [],
      "include_colab_link": true
    },
    "kernelspec": {
      "display_name": "Python 3",
      "name": "python3"
    },
    "language_info": {
      "name": "python"
    }
  },
  "nbformat": 4,
  "nbformat_minor": 0
}